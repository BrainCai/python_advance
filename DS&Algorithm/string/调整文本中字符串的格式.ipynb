{
 "cells": [
  {
   "cell_type": "code",
   "execution_count": 1,
   "metadata": {},
   "outputs": [],
   "source": [
    "import re"
   ]
  },
  {
   "cell_type": "code",
   "execution_count": 2,
   "metadata": {},
   "outputs": [],
   "source": [
    "string = '2018-12-20 13:23:45 日志log 查看一下'"
   ]
  },
  {
   "cell_type": "code",
   "execution_count": 9,
   "metadata": {},
   "outputs": [
    {
     "data": {
      "text/plain": [
       "'\\x02/\\x03/\\x01 13:23:45 日志log 查看一下'"
      ]
     },
     "execution_count": 9,
     "metadata": {},
     "output_type": "execute_result"
    }
   ],
   "source": [
    "re.sub('(\\d{4})-(\\d{2})-(\\d{2})','\\2/\\3/\\1',string)"
   ]
  },
  {
   "cell_type": "code",
   "execution_count": 10,
   "metadata": {},
   "outputs": [
    {
     "data": {
      "text/plain": [
       "'12/20/2018 13:23:45 日志log 查看一下'"
      ]
     },
     "execution_count": 10,
     "metadata": {},
     "output_type": "execute_result"
    }
   ],
   "source": [
    "re.sub(r'(\\d{4})-(\\d{2})-(\\d{2})',r'\\2/\\3/\\1',string)"
   ]
  },
  {
   "cell_type": "code",
   "execution_count": 11,
   "metadata": {},
   "outputs": [
    {
     "data": {
      "text/plain": [
       "'\\\\2'"
      ]
     },
     "execution_count": 11,
     "metadata": {},
     "output_type": "execute_result"
    }
   ],
   "source": [
    "r'\\2'"
   ]
  },
  {
   "cell_type": "markdown",
   "metadata": {},
   "source": [
    "### 如下将日志文件修改其日期"
   ]
  },
  {
   "cell_type": "markdown",
   "metadata": {},
   "source": [
    "#### 读取文件"
   ]
  },
  {
   "cell_type": "code",
   "execution_count": 14,
   "metadata": {},
   "outputs": [
    {
     "data": {
      "text/plain": [
       "'[INFO] 2018-06-14 10:05:29 com.bonc.bpm.multi.IntergrationHibernateDataSource$DynamicProxyConnection.invoke(IntergrationHibernateDataSource.java:87): hibernate-new-sqlSELECT PROC_INST_ID_ FROM ACT_RU_TASK f WHERE PROC_INST_ID_ IN (?, ?, ?, ?)\\n[DEBUG] 2018-06-14 10:05:29 org.apache.ibatis.logging.slf4j.Slf4jImpl.debug(Slf4jImpl.java:47): ooo Using Connection [Transaction-aware proxy for target Connection [com.mchange.v2.c3p0.impl.NewProxyConnection@5a850f88]]\\n[INFO] 2018-06-14 10:05:29 com.bonc.bpm.multi.TenantInterceptor.intercept(TenantInterceptor.java:59): \\t\\ttenant_id:uni_test\\n[INFO] 2018-06-14 10:05:29 com.bonc.bpm.multi.TenantInterceptor.intercept(TenantInterceptor.java:60): \\t\\t@@@@id:com.bonc.bpm.extsqlmap.selectExecutionByPIds\\n[INFO] 2018-06-14 10:05:29 com.bonc.bpm.multi.TenantInterceptor.intercept(TenantInterceptor.java:61): \\t\\t@@@@sql:select PROC_INST_ID_,ID_ , PARENT_ID_ from ACT_RU_EXECUTION f\\n\\t\\twhere\\n\\n\\t\\t \\n\\t\\t\\tPROC_INST_ID_ in\\n\\t\\t\\t (  \\n\\t\\t\\t\\t?\\n\\t\\t\\t , \\n\\t\\t\\t\\t?\\n\\t\\t\\t , \\n\\t\\t\\t\\t?\\n\\t\\t\\t , \\n\\t\\t\\t\\t?\\n\\t\\t\\t )\\n[INFO] 2018-06-14 10:05:29 com.bonc.bpm.multi.TenantInterceptor.intercept(TenantInterceptor.java:62): \\t\\t@@@@getParameterMappings:[org.apache.ibatis.mapping.ParameterMapping@b0a908, org.apache.ibatis.mapping.ParameterMapping@4e294c92, org.apache.ibatis.mapping.ParameterMapping@79622d54, org.apache.ibatis.mapping.ParameterMapping@1c8e240e]\\n[INFO] 2018-06-14 10:05:29 com.bonc.bpm.multi.TenantInterceptor.intercept(TenantInterceptor.java:63): \\t\\t@@@@getParameterObject:{taskIds=[1007076694179520513, 1001049579587252225, 1004169897726779392, 991855658764935168], pdefs=[pcloud_leave_apply:35:995836753516048384, pcloud_leave_apply:16:973149609604878336], pIds=[1001049579490783232, 1004169897546424320, 991855658702020608, 1007076694091440128]}\\n[DEBUG] 2018-06-14 10:05:29 org.apache.ibatis.logging.slf4j.Slf4jImpl.debug(Slf4jImpl.java:47): ==>  Preparing: select PROC_INST_ID_,ID_ , PARENT_ID_ from ACT_RU_EXECUTION f where PROC_INST_ID_ in ( ? , ? , ? , ? ) \\n[INFO] 2018-06-14 10:05:29 com.bonc.bpm.multi.IntergrationHibernateDataSource$DynamicProxyConnection.invoke(IntergrationHibernateDataSource.java:76): hibernate-old-sqlselect PROC_INST_ID_,ID_ , PARENT_ID_ from ACT_RU_EXECUTION f\\n\\t\\twhere\\n\\n\\t\\t \\n\\t\\t\\tPROC_INST_ID_ in\\n\\t\\t\\t (  \\n\\t\\t\\t\\t?\\n\\t\\t\\t , \\n\\t\\t\\t\\t?\\n\\t\\t\\t , \\n\\t\\t\\t\\t?\\n\\t\\t\\t , \\n\\t\\t\\t\\t?\\n\\t\\t\\t )\\n[INFO] 2018-06-14 10:05:29 com.bonc.bpm.multi.IntergrationHibernateDataSource$DynamicProxyConnection.invoke(IntergrationHibernateDataSource.java:87): hibernate-new-sqlSELECT PROC_INST_ID_, ID_, PARENT_ID_ FROM ACT_RU_EXECUTION f WHERE PROC_INST_ID_ IN (?, ?, ?, ?)\\n[DEBUG] 2018-06-14 10:05:29 org.apache.ibatis.logging.slf4j.Slf4jImpl.debug(Slf4jImpl.java:47): ooo Using Connection [Transaction-aware proxy for target Connection [com.mchange.v2.c3p0.impl.NewProxyConnection@5a850f88]]\\n[INFO] 2018-06-14 10:05:29 com.bonc.bpm.multi.TenantInterceptor.intercept(TenantInterceptor.java:59): \\t\\ttenant_id:uni_test\\n[INFO] 2018-06-14 10:05:29 com.bonc.bpm.multi.TenantInterceptor.intercept(TenantInterceptor.java:60): \\t\\t@@@@id:com.bonc.bpm.extsqlmap.selectApprovalActionByPIds\\n[INFO] 2018-06-14 10:05:29 com.bonc.bpm.multi.TenantInterceptor.intercept(TenantInterceptor.java:61): \\t\\t@@@@sql:select distinct ACTION_ ACTION,TASK_ID_ TASK_ID from\\n\\t\\tACT_APPROVAL_INFO\\n\\t\\tf where\\n\\n\\t\\t \\n\\t\\t\\tTASK_ID_ in\\n\\t\\t\\t (  \\n\\t\\t\\t\\t?\\n\\t\\t\\t , \\n\\t\\t\\t\\t?\\n\\t\\t\\t , \\n\\t\\t\\t\\t?\\n\\t\\t\\t , \\n\\t\\t\\t\\t?\\n\\t\\t\\t )\\n[INFO] 2018-06-14 10:05:29 com.bonc.bpm.multi.TenantInterceptor.intercept(TenantInterceptor.java:62): \\t\\t@@@@getParameterMappings:[org.apache.ibatis.mapping.ParameterMapping@2e8f55f7, org.apache.ibatis.mapping.ParameterMapping@4454e302, org.apache.ibatis.mapping.ParameterMapping@2103bb5a, org.apache.ibatis.mapping.ParameterMapping@7c0122a4]\\n[INFO] 2018-06-14 10:05:29 com.bonc.bpm.multi.TenantInterceptor.intercept(TenantInterceptor.java:63): \\t\\t@@@@getParameterObject:{taskIds=[1007076694179520513, 1001049579587252225, 1004169897726779392, 991855658764935168], pdefs=[pcloud_leave_apply:35:995836753516048384, pcloud_leave_apply:16:973149609604878336], pIds=[1001049579490783232, 1004169897546424320, 991855658702020608, 1007076694091440128]}\\n[DEBUG] 2018-06-14 10:05:29 org.apache.ibatis.logging.slf4j.Slf4jImpl.debug(Slf4jImpl.java:47): ==>  Preparing: select distinct ACTION_ ACTION,TASK_ID_ TASK_ID from ACT_APPROVAL_INFO f where TASK_ID_ in ( ? , ? , ? , ? ) \\n[INFO] 2018-06-14 10:05:29 com.bonc.bpm.multi.IntergrationHibernateDataSource$DynamicProxyConnection.invoke(IntergrationHibernateDataSource.java:76): hibernate-old-sqlselect distinct ACTION_ ACTION,TASK_ID_ TASK_ID from\\n\\t\\tACT_APPROVAL_INFO\\n\\t\\tf where\\n\\n\\t\\t \\n\\t\\t\\tTASK_ID_ in\\n\\t\\t\\t (  \\n\\t\\t\\t\\t?\\n\\t\\t\\t , \\n\\t\\t\\t\\t?\\n\\t\\t\\t , \\n\\t\\t\\t\\t?\\n\\t\\t\\t , \\n\\t\\t\\t\\t?\\n\\t\\t\\t )\\n[INFO] 2018-06-14 10:05:29 com.bonc.bpm.multi.IntergrationHibernateDataSource$DynamicProxyConnection.invoke(IntergrationHibernateDataSource.java:87): hibernate-new-sqlSELECT DISTINCT ACTION_ ACTION, TASK_ID_ TASK_ID FROM ACT_APPROVAL_INFO f WHERE TASK_ID_ IN (?, ?, ?, ?)\\n'"
      ]
     },
     "execution_count": 14,
     "metadata": {},
     "output_type": "execute_result"
    }
   ],
   "source": [
    "f = open('./tmp/log.log')\n",
    "log = f.read()\n",
    "log"
   ]
  },
  {
   "cell_type": "code",
   "execution_count": 17,
   "metadata": {},
   "outputs": [
    {
     "data": {
      "text/plain": [
       "'[INFO] \\x02/\\x03/\\x01 10:05:29 com.bonc.bpm.multi.IntergrationHibernateDataSource$DynamicProxyConnection.invoke(IntergrationHibernateDataSource.java:87): hibernate-new-sqlSELECT PROC_INST_ID_ FROM ACT_RU_TASK f WHERE PROC_INST_ID_ IN (?, ?, ?, ?)\\n[DEBUG] \\x02/\\x03/\\x01 10:05:29 org.apache.ibatis.logging.slf4j.Slf4jImpl.debug(Slf4jImpl.java:47): ooo Using Connection [Transaction-aware proxy for target Connection [com.mchange.v2.c3p0.impl.NewProxyConnection@5a850f88]]\\n[INFO] \\x02/\\x03/\\x01 10:05:29 com.bonc.bpm.multi.TenantInterceptor.intercept(TenantInterceptor.java:59): \\t\\ttenant_id:uni_test\\n[INFO] \\x02/\\x03/\\x01 10:05:29 com.bonc.bpm.multi.TenantInterceptor.intercept(TenantInterceptor.java:60): \\t\\t@@@@id:com.bonc.bpm.extsqlmap.selectExecutionByPIds\\n[INFO] \\x02/\\x03/\\x01 10:05:29 com.bonc.bpm.multi.TenantInterceptor.intercept(TenantInterceptor.java:61): \\t\\t@@@@sql:select PROC_INST_ID_,ID_ , PARENT_ID_ from ACT_RU_EXECUTION f\\n\\t\\twhere\\n\\n\\t\\t \\n\\t\\t\\tPROC_INST_ID_ in\\n\\t\\t\\t (  \\n\\t\\t\\t\\t?\\n\\t\\t\\t , \\n\\t\\t\\t\\t?\\n\\t\\t\\t , \\n\\t\\t\\t\\t?\\n\\t\\t\\t , \\n\\t\\t\\t\\t?\\n\\t\\t\\t )\\n[INFO] \\x02/\\x03/\\x01 10:05:29 com.bonc.bpm.multi.TenantInterceptor.intercept(TenantInterceptor.java:62): \\t\\t@@@@getParameterMappings:[org.apache.ibatis.mapping.ParameterMapping@b0a908, org.apache.ibatis.mapping.ParameterMapping@4e294c92, org.apache.ibatis.mapping.ParameterMapping@79622d54, org.apache.ibatis.mapping.ParameterMapping@1c8e240e]\\n[INFO] \\x02/\\x03/\\x01 10:05:29 com.bonc.bpm.multi.TenantInterceptor.intercept(TenantInterceptor.java:63): \\t\\t@@@@getParameterObject:{taskIds=[1007076694179520513, 1001049579587252225, 1004169897726779392, 991855658764935168], pdefs=[pcloud_leave_apply:35:995836753516048384, pcloud_leave_apply:16:973149609604878336], pIds=[1001049579490783232, 1004169897546424320, 991855658702020608, 1007076694091440128]}\\n[DEBUG] \\x02/\\x03/\\x01 10:05:29 org.apache.ibatis.logging.slf4j.Slf4jImpl.debug(Slf4jImpl.java:47): ==>  Preparing: select PROC_INST_ID_,ID_ , PARENT_ID_ from ACT_RU_EXECUTION f where PROC_INST_ID_ in ( ? , ? , ? , ? ) \\n[INFO] \\x02/\\x03/\\x01 10:05:29 com.bonc.bpm.multi.IntergrationHibernateDataSource$DynamicProxyConnection.invoke(IntergrationHibernateDataSource.java:76): hibernate-old-sqlselect PROC_INST_ID_,ID_ , PARENT_ID_ from ACT_RU_EXECUTION f\\n\\t\\twhere\\n\\n\\t\\t \\n\\t\\t\\tPROC_INST_ID_ in\\n\\t\\t\\t (  \\n\\t\\t\\t\\t?\\n\\t\\t\\t , \\n\\t\\t\\t\\t?\\n\\t\\t\\t , \\n\\t\\t\\t\\t?\\n\\t\\t\\t , \\n\\t\\t\\t\\t?\\n\\t\\t\\t )\\n[INFO] \\x02/\\x03/\\x01 10:05:29 com.bonc.bpm.multi.IntergrationHibernateDataSource$DynamicProxyConnection.invoke(IntergrationHibernateDataSource.java:87): hibernate-new-sqlSELECT PROC_INST_ID_, ID_, PARENT_ID_ FROM ACT_RU_EXECUTION f WHERE PROC_INST_ID_ IN (?, ?, ?, ?)\\n[DEBUG] \\x02/\\x03/\\x01 10:05:29 org.apache.ibatis.logging.slf4j.Slf4jImpl.debug(Slf4jImpl.java:47): ooo Using Connection [Transaction-aware proxy for target Connection [com.mchange.v2.c3p0.impl.NewProxyConnection@5a850f88]]\\n[INFO] \\x02/\\x03/\\x01 10:05:29 com.bonc.bpm.multi.TenantInterceptor.intercept(TenantInterceptor.java:59): \\t\\ttenant_id:uni_test\\n[INFO] \\x02/\\x03/\\x01 10:05:29 com.bonc.bpm.multi.TenantInterceptor.intercept(TenantInterceptor.java:60): \\t\\t@@@@id:com.bonc.bpm.extsqlmap.selectApprovalActionByPIds\\n[INFO] \\x02/\\x03/\\x01 10:05:29 com.bonc.bpm.multi.TenantInterceptor.intercept(TenantInterceptor.java:61): \\t\\t@@@@sql:select distinct ACTION_ ACTION,TASK_ID_ TASK_ID from\\n\\t\\tACT_APPROVAL_INFO\\n\\t\\tf where\\n\\n\\t\\t \\n\\t\\t\\tTASK_ID_ in\\n\\t\\t\\t (  \\n\\t\\t\\t\\t?\\n\\t\\t\\t , \\n\\t\\t\\t\\t?\\n\\t\\t\\t , \\n\\t\\t\\t\\t?\\n\\t\\t\\t , \\n\\t\\t\\t\\t?\\n\\t\\t\\t )\\n[INFO] \\x02/\\x03/\\x01 10:05:29 com.bonc.bpm.multi.TenantInterceptor.intercept(TenantInterceptor.java:62): \\t\\t@@@@getParameterMappings:[org.apache.ibatis.mapping.ParameterMapping@2e8f55f7, org.apache.ibatis.mapping.ParameterMapping@4454e302, org.apache.ibatis.mapping.ParameterMapping@2103bb5a, org.apache.ibatis.mapping.ParameterMapping@7c0122a4]\\n[INFO] \\x02/\\x03/\\x01 10:05:29 com.bonc.bpm.multi.TenantInterceptor.intercept(TenantInterceptor.java:63): \\t\\t@@@@getParameterObject:{taskIds=[1007076694179520513, 1001049579587252225, 1004169897726779392, 991855658764935168], pdefs=[pcloud_leave_apply:35:995836753516048384, pcloud_leave_apply:16:973149609604878336], pIds=[1001049579490783232, 1004169897546424320, 991855658702020608, 1007076694091440128]}\\n[DEBUG] \\x02/\\x03/\\x01 10:05:29 org.apache.ibatis.logging.slf4j.Slf4jImpl.debug(Slf4jImpl.java:47): ==>  Preparing: select distinct ACTION_ ACTION,TASK_ID_ TASK_ID from ACT_APPROVAL_INFO f where TASK_ID_ in ( ? , ? , ? , ? ) \\n[INFO] \\x02/\\x03/\\x01 10:05:29 com.bonc.bpm.multi.IntergrationHibernateDataSource$DynamicProxyConnection.invoke(IntergrationHibernateDataSource.java:76): hibernate-old-sqlselect distinct ACTION_ ACTION,TASK_ID_ TASK_ID from\\n\\t\\tACT_APPROVAL_INFO\\n\\t\\tf where\\n\\n\\t\\t \\n\\t\\t\\tTASK_ID_ in\\n\\t\\t\\t (  \\n\\t\\t\\t\\t?\\n\\t\\t\\t , \\n\\t\\t\\t\\t?\\n\\t\\t\\t , \\n\\t\\t\\t\\t?\\n\\t\\t\\t , \\n\\t\\t\\t\\t?\\n\\t\\t\\t )\\n[INFO] \\x02/\\x03/\\x01 10:05:29 com.bonc.bpm.multi.IntergrationHibernateDataSource$DynamicProxyConnection.invoke(IntergrationHibernateDataSource.java:87): hibernate-new-sqlSELECT DISTINCT ACTION_ ACTION, TASK_ID_ TASK_ID FROM ACT_APPROVAL_INFO f WHERE TASK_ID_ IN (?, ?, ?, ?)\\n'"
      ]
     },
     "execution_count": 17,
     "metadata": {},
     "output_type": "execute_result"
    }
   ],
   "source": [
    "re.sub('(\\d{4})-(\\d{2})-(\\d{2})','\\2/\\3/\\1',log)"
   ]
  },
  {
   "cell_type": "markdown",
   "metadata": {},
   "source": [
    "在上面打印的中，查看并未将日期格式改变"
   ]
  },
  {
   "cell_type": "markdown",
   "metadata": {},
   "source": [
    "原因是为加上**r**,所以需要将其加上**r**"
   ]
  },
  {
   "cell_type": "code",
   "execution_count": 18,
   "metadata": {},
   "outputs": [
    {
     "data": {
      "text/plain": [
       "'[INFO] 06/14/2018 10:05:29 com.bonc.bpm.multi.IntergrationHibernateDataSource$DynamicProxyConnection.invoke(IntergrationHibernateDataSource.java:87): hibernate-new-sqlSELECT PROC_INST_ID_ FROM ACT_RU_TASK f WHERE PROC_INST_ID_ IN (?, ?, ?, ?)\\n[DEBUG] 06/14/2018 10:05:29 org.apache.ibatis.logging.slf4j.Slf4jImpl.debug(Slf4jImpl.java:47): ooo Using Connection [Transaction-aware proxy for target Connection [com.mchange.v2.c3p0.impl.NewProxyConnection@5a850f88]]\\n[INFO] 06/14/2018 10:05:29 com.bonc.bpm.multi.TenantInterceptor.intercept(TenantInterceptor.java:59): \\t\\ttenant_id:uni_test\\n[INFO] 06/14/2018 10:05:29 com.bonc.bpm.multi.TenantInterceptor.intercept(TenantInterceptor.java:60): \\t\\t@@@@id:com.bonc.bpm.extsqlmap.selectExecutionByPIds\\n[INFO] 06/14/2018 10:05:29 com.bonc.bpm.multi.TenantInterceptor.intercept(TenantInterceptor.java:61): \\t\\t@@@@sql:select PROC_INST_ID_,ID_ , PARENT_ID_ from ACT_RU_EXECUTION f\\n\\t\\twhere\\n\\n\\t\\t \\n\\t\\t\\tPROC_INST_ID_ in\\n\\t\\t\\t (  \\n\\t\\t\\t\\t?\\n\\t\\t\\t , \\n\\t\\t\\t\\t?\\n\\t\\t\\t , \\n\\t\\t\\t\\t?\\n\\t\\t\\t , \\n\\t\\t\\t\\t?\\n\\t\\t\\t )\\n[INFO] 06/14/2018 10:05:29 com.bonc.bpm.multi.TenantInterceptor.intercept(TenantInterceptor.java:62): \\t\\t@@@@getParameterMappings:[org.apache.ibatis.mapping.ParameterMapping@b0a908, org.apache.ibatis.mapping.ParameterMapping@4e294c92, org.apache.ibatis.mapping.ParameterMapping@79622d54, org.apache.ibatis.mapping.ParameterMapping@1c8e240e]\\n[INFO] 06/14/2018 10:05:29 com.bonc.bpm.multi.TenantInterceptor.intercept(TenantInterceptor.java:63): \\t\\t@@@@getParameterObject:{taskIds=[1007076694179520513, 1001049579587252225, 1004169897726779392, 991855658764935168], pdefs=[pcloud_leave_apply:35:995836753516048384, pcloud_leave_apply:16:973149609604878336], pIds=[1001049579490783232, 1004169897546424320, 991855658702020608, 1007076694091440128]}\\n[DEBUG] 06/14/2018 10:05:29 org.apache.ibatis.logging.slf4j.Slf4jImpl.debug(Slf4jImpl.java:47): ==>  Preparing: select PROC_INST_ID_,ID_ , PARENT_ID_ from ACT_RU_EXECUTION f where PROC_INST_ID_ in ( ? , ? , ? , ? ) \\n[INFO] 06/14/2018 10:05:29 com.bonc.bpm.multi.IntergrationHibernateDataSource$DynamicProxyConnection.invoke(IntergrationHibernateDataSource.java:76): hibernate-old-sqlselect PROC_INST_ID_,ID_ , PARENT_ID_ from ACT_RU_EXECUTION f\\n\\t\\twhere\\n\\n\\t\\t \\n\\t\\t\\tPROC_INST_ID_ in\\n\\t\\t\\t (  \\n\\t\\t\\t\\t?\\n\\t\\t\\t , \\n\\t\\t\\t\\t?\\n\\t\\t\\t , \\n\\t\\t\\t\\t?\\n\\t\\t\\t , \\n\\t\\t\\t\\t?\\n\\t\\t\\t )\\n[INFO] 06/14/2018 10:05:29 com.bonc.bpm.multi.IntergrationHibernateDataSource$DynamicProxyConnection.invoke(IntergrationHibernateDataSource.java:87): hibernate-new-sqlSELECT PROC_INST_ID_, ID_, PARENT_ID_ FROM ACT_RU_EXECUTION f WHERE PROC_INST_ID_ IN (?, ?, ?, ?)\\n[DEBUG] 06/14/2018 10:05:29 org.apache.ibatis.logging.slf4j.Slf4jImpl.debug(Slf4jImpl.java:47): ooo Using Connection [Transaction-aware proxy for target Connection [com.mchange.v2.c3p0.impl.NewProxyConnection@5a850f88]]\\n[INFO] 06/14/2018 10:05:29 com.bonc.bpm.multi.TenantInterceptor.intercept(TenantInterceptor.java:59): \\t\\ttenant_id:uni_test\\n[INFO] 06/14/2018 10:05:29 com.bonc.bpm.multi.TenantInterceptor.intercept(TenantInterceptor.java:60): \\t\\t@@@@id:com.bonc.bpm.extsqlmap.selectApprovalActionByPIds\\n[INFO] 06/14/2018 10:05:29 com.bonc.bpm.multi.TenantInterceptor.intercept(TenantInterceptor.java:61): \\t\\t@@@@sql:select distinct ACTION_ ACTION,TASK_ID_ TASK_ID from\\n\\t\\tACT_APPROVAL_INFO\\n\\t\\tf where\\n\\n\\t\\t \\n\\t\\t\\tTASK_ID_ in\\n\\t\\t\\t (  \\n\\t\\t\\t\\t?\\n\\t\\t\\t , \\n\\t\\t\\t\\t?\\n\\t\\t\\t , \\n\\t\\t\\t\\t?\\n\\t\\t\\t , \\n\\t\\t\\t\\t?\\n\\t\\t\\t )\\n[INFO] 06/14/2018 10:05:29 com.bonc.bpm.multi.TenantInterceptor.intercept(TenantInterceptor.java:62): \\t\\t@@@@getParameterMappings:[org.apache.ibatis.mapping.ParameterMapping@2e8f55f7, org.apache.ibatis.mapping.ParameterMapping@4454e302, org.apache.ibatis.mapping.ParameterMapping@2103bb5a, org.apache.ibatis.mapping.ParameterMapping@7c0122a4]\\n[INFO] 06/14/2018 10:05:29 com.bonc.bpm.multi.TenantInterceptor.intercept(TenantInterceptor.java:63): \\t\\t@@@@getParameterObject:{taskIds=[1007076694179520513, 1001049579587252225, 1004169897726779392, 991855658764935168], pdefs=[pcloud_leave_apply:35:995836753516048384, pcloud_leave_apply:16:973149609604878336], pIds=[1001049579490783232, 1004169897546424320, 991855658702020608, 1007076694091440128]}\\n[DEBUG] 06/14/2018 10:05:29 org.apache.ibatis.logging.slf4j.Slf4jImpl.debug(Slf4jImpl.java:47): ==>  Preparing: select distinct ACTION_ ACTION,TASK_ID_ TASK_ID from ACT_APPROVAL_INFO f where TASK_ID_ in ( ? , ? , ? , ? ) \\n[INFO] 06/14/2018 10:05:29 com.bonc.bpm.multi.IntergrationHibernateDataSource$DynamicProxyConnection.invoke(IntergrationHibernateDataSource.java:76): hibernate-old-sqlselect distinct ACTION_ ACTION,TASK_ID_ TASK_ID from\\n\\t\\tACT_APPROVAL_INFO\\n\\t\\tf where\\n\\n\\t\\t \\n\\t\\t\\tTASK_ID_ in\\n\\t\\t\\t (  \\n\\t\\t\\t\\t?\\n\\t\\t\\t , \\n\\t\\t\\t\\t?\\n\\t\\t\\t , \\n\\t\\t\\t\\t?\\n\\t\\t\\t , \\n\\t\\t\\t\\t?\\n\\t\\t\\t )\\n[INFO] 06/14/2018 10:05:29 com.bonc.bpm.multi.IntergrationHibernateDataSource$DynamicProxyConnection.invoke(IntergrationHibernateDataSource.java:87): hibernate-new-sqlSELECT DISTINCT ACTION_ ACTION, TASK_ID_ TASK_ID FROM ACT_APPROVAL_INFO f WHERE TASK_ID_ IN (?, ?, ?, ?)\\n'"
      ]
     },
     "execution_count": 18,
     "metadata": {},
     "output_type": "execute_result"
    }
   ],
   "source": [
    "re.sub(r'(\\d{4})-(\\d{2})-(\\d{2})',r'\\2/\\3/\\1',log)"
   ]
  },
  {
   "cell_type": "code",
   "execution_count": 20,
   "metadata": {},
   "outputs": [],
   "source": [
    "log = re.sub(r'(\\d{4})-(\\d{2})-(\\d{2})',r'\\2/\\3/\\1',log)"
   ]
  },
  {
   "cell_type": "markdown",
   "metadata": {},
   "source": [
    "#### 通过取别名的方式来完成"
   ]
  },
  {
   "cell_type": "code",
   "execution_count": 23,
   "metadata": {},
   "outputs": [],
   "source": [
    "log = re.sub(r'(?P<y>\\d{4})-(?P<m>\\d{2})-(?P<d>\\d{2})',r'\\g<m>/\\g<d>/\\g<y>',log)"
   ]
  },
  {
   "cell_type": "code",
   "execution_count": 24,
   "metadata": {},
   "outputs": [
    {
     "data": {
      "text/plain": [
       "'[INFO] 06/14/2018 10:05:29 com.bonc.bpm.multi.IntergrationHibernateDataSource$DynamicProxyConnection.invoke(IntergrationHibernateDataSource.java:87): hibernate-new-sqlSELECT PROC_INST_ID_ FROM ACT_RU_TASK f WHERE PROC_INST_ID_ IN (?, ?, ?, ?)\\n[DEBUG] 06/14/2018 10:05:29 org.apache.ibatis.logging.slf4j.Slf4jImpl.debug(Slf4jImpl.java:47): ooo Using Connection [Transaction-aware proxy for target Connection [com.mchange.v2.c3p0.impl.NewProxyConnection@5a850f88]]\\n[INFO] 06/14/2018 10:05:29 com.bonc.bpm.multi.TenantInterceptor.intercept(TenantInterceptor.java:59): \\t\\ttenant_id:uni_test\\n[INFO] 06/14/2018 10:05:29 com.bonc.bpm.multi.TenantInterceptor.intercept(TenantInterceptor.java:60): \\t\\t@@@@id:com.bonc.bpm.extsqlmap.selectExecutionByPIds\\n[INFO] 06/14/2018 10:05:29 com.bonc.bpm.multi.TenantInterceptor.intercept(TenantInterceptor.java:61): \\t\\t@@@@sql:select PROC_INST_ID_,ID_ , PARENT_ID_ from ACT_RU_EXECUTION f\\n\\t\\twhere\\n\\n\\t\\t \\n\\t\\t\\tPROC_INST_ID_ in\\n\\t\\t\\t (  \\n\\t\\t\\t\\t?\\n\\t\\t\\t , \\n\\t\\t\\t\\t?\\n\\t\\t\\t , \\n\\t\\t\\t\\t?\\n\\t\\t\\t , \\n\\t\\t\\t\\t?\\n\\t\\t\\t )\\n[INFO] 06/14/2018 10:05:29 com.bonc.bpm.multi.TenantInterceptor.intercept(TenantInterceptor.java:62): \\t\\t@@@@getParameterMappings:[org.apache.ibatis.mapping.ParameterMapping@b0a908, org.apache.ibatis.mapping.ParameterMapping@4e294c92, org.apache.ibatis.mapping.ParameterMapping@79622d54, org.apache.ibatis.mapping.ParameterMapping@1c8e240e]\\n[INFO] 06/14/2018 10:05:29 com.bonc.bpm.multi.TenantInterceptor.intercept(TenantInterceptor.java:63): \\t\\t@@@@getParameterObject:{taskIds=[1007076694179520513, 1001049579587252225, 1004169897726779392, 991855658764935168], pdefs=[pcloud_leave_apply:35:995836753516048384, pcloud_leave_apply:16:973149609604878336], pIds=[1001049579490783232, 1004169897546424320, 991855658702020608, 1007076694091440128]}\\n[DEBUG] 06/14/2018 10:05:29 org.apache.ibatis.logging.slf4j.Slf4jImpl.debug(Slf4jImpl.java:47): ==>  Preparing: select PROC_INST_ID_,ID_ , PARENT_ID_ from ACT_RU_EXECUTION f where PROC_INST_ID_ in ( ? , ? , ? , ? ) \\n[INFO] 06/14/2018 10:05:29 com.bonc.bpm.multi.IntergrationHibernateDataSource$DynamicProxyConnection.invoke(IntergrationHibernateDataSource.java:76): hibernate-old-sqlselect PROC_INST_ID_,ID_ , PARENT_ID_ from ACT_RU_EXECUTION f\\n\\t\\twhere\\n\\n\\t\\t \\n\\t\\t\\tPROC_INST_ID_ in\\n\\t\\t\\t (  \\n\\t\\t\\t\\t?\\n\\t\\t\\t , \\n\\t\\t\\t\\t?\\n\\t\\t\\t , \\n\\t\\t\\t\\t?\\n\\t\\t\\t , \\n\\t\\t\\t\\t?\\n\\t\\t\\t )\\n[INFO] 06/14/2018 10:05:29 com.bonc.bpm.multi.IntergrationHibernateDataSource$DynamicProxyConnection.invoke(IntergrationHibernateDataSource.java:87): hibernate-new-sqlSELECT PROC_INST_ID_, ID_, PARENT_ID_ FROM ACT_RU_EXECUTION f WHERE PROC_INST_ID_ IN (?, ?, ?, ?)\\n[DEBUG] 06/14/2018 10:05:29 org.apache.ibatis.logging.slf4j.Slf4jImpl.debug(Slf4jImpl.java:47): ooo Using Connection [Transaction-aware proxy for target Connection [com.mchange.v2.c3p0.impl.NewProxyConnection@5a850f88]]\\n[INFO] 06/14/2018 10:05:29 com.bonc.bpm.multi.TenantInterceptor.intercept(TenantInterceptor.java:59): \\t\\ttenant_id:uni_test\\n[INFO] 06/14/2018 10:05:29 com.bonc.bpm.multi.TenantInterceptor.intercept(TenantInterceptor.java:60): \\t\\t@@@@id:com.bonc.bpm.extsqlmap.selectApprovalActionByPIds\\n[INFO] 06/14/2018 10:05:29 com.bonc.bpm.multi.TenantInterceptor.intercept(TenantInterceptor.java:61): \\t\\t@@@@sql:select distinct ACTION_ ACTION,TASK_ID_ TASK_ID from\\n\\t\\tACT_APPROVAL_INFO\\n\\t\\tf where\\n\\n\\t\\t \\n\\t\\t\\tTASK_ID_ in\\n\\t\\t\\t (  \\n\\t\\t\\t\\t?\\n\\t\\t\\t , \\n\\t\\t\\t\\t?\\n\\t\\t\\t , \\n\\t\\t\\t\\t?\\n\\t\\t\\t , \\n\\t\\t\\t\\t?\\n\\t\\t\\t )\\n[INFO] 06/14/2018 10:05:29 com.bonc.bpm.multi.TenantInterceptor.intercept(TenantInterceptor.java:62): \\t\\t@@@@getParameterMappings:[org.apache.ibatis.mapping.ParameterMapping@2e8f55f7, org.apache.ibatis.mapping.ParameterMapping@4454e302, org.apache.ibatis.mapping.ParameterMapping@2103bb5a, org.apache.ibatis.mapping.ParameterMapping@7c0122a4]\\n[INFO] 06/14/2018 10:05:29 com.bonc.bpm.multi.TenantInterceptor.intercept(TenantInterceptor.java:63): \\t\\t@@@@getParameterObject:{taskIds=[1007076694179520513, 1001049579587252225, 1004169897726779392, 991855658764935168], pdefs=[pcloud_leave_apply:35:995836753516048384, pcloud_leave_apply:16:973149609604878336], pIds=[1001049579490783232, 1004169897546424320, 991855658702020608, 1007076694091440128]}\\n[DEBUG] 06/14/2018 10:05:29 org.apache.ibatis.logging.slf4j.Slf4jImpl.debug(Slf4jImpl.java:47): ==>  Preparing: select distinct ACTION_ ACTION,TASK_ID_ TASK_ID from ACT_APPROVAL_INFO f where TASK_ID_ in ( ? , ? , ? , ? ) \\n[INFO] 06/14/2018 10:05:29 com.bonc.bpm.multi.IntergrationHibernateDataSource$DynamicProxyConnection.invoke(IntergrationHibernateDataSource.java:76): hibernate-old-sqlselect distinct ACTION_ ACTION,TASK_ID_ TASK_ID from\\n\\t\\tACT_APPROVAL_INFO\\n\\t\\tf where\\n\\n\\t\\t \\n\\t\\t\\tTASK_ID_ in\\n\\t\\t\\t (  \\n\\t\\t\\t\\t?\\n\\t\\t\\t , \\n\\t\\t\\t\\t?\\n\\t\\t\\t , \\n\\t\\t\\t\\t?\\n\\t\\t\\t , \\n\\t\\t\\t\\t?\\n\\t\\t\\t )\\n[INFO] 06/14/2018 10:05:29 com.bonc.bpm.multi.IntergrationHibernateDataSource$DynamicProxyConnection.invoke(IntergrationHibernateDataSource.java:87): hibernate-new-sqlSELECT DISTINCT ACTION_ ACTION, TASK_ID_ TASK_ID FROM ACT_APPROVAL_INFO f WHERE TASK_ID_ IN (?, ?, ?, ?)\\n'"
      ]
     },
     "execution_count": 24,
     "metadata": {},
     "output_type": "execute_result"
    }
   ],
   "source": [
    "log"
   ]
  },
  {
   "cell_type": "markdown",
   "metadata": {},
   "source": [
    "#### 总结"
   ]
  },
  {
   "cell_type": "markdown",
   "metadata": {},
   "source": [
    "此处修改文本中的日期格式，主要是通过正则表达式来完成的"
   ]
  },
  {
   "cell_type": "markdown",
   "metadata": {},
   "source": [
    "\\d{n} ==>表示查找的n个数字"
   ]
  }
 ],
 "metadata": {
  "kernelspec": {
   "display_name": "Python 3",
   "language": "python",
   "name": "python3"
  },
  "language_info": {
   "codemirror_mode": {
    "name": "ipython",
    "version": 3
   },
   "file_extension": ".py",
   "mimetype": "text/x-python",
   "name": "python",
   "nbconvert_exporter": "python",
   "pygments_lexer": "ipython3",
   "version": "3.6.4"
  }
 },
 "nbformat": 4,
 "nbformat_minor": 2
}
