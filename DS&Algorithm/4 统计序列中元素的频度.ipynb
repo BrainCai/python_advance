{
 "cells": [
  {
   "cell_type": "markdown",
   "metadata": {},
   "source": [
    "#### 实例1：\n",
    "某随机序列[1,4,8,2,0,3,2,1,9,8]出现频率最高的三个元素，他们出现的次数是多少？"
   ]
  },
  {
   "cell_type": "markdown",
   "metadata": {},
   "source": [
    "#### 方案1：\n",
    "* 将序列转为字典，键值是序列元素，value 是元素频度"
   ]
  },
  {
   "cell_type": "markdown",
   "metadata": {},
   "source": [
    "##### 字典中的fromkeys函数的用法\n",
    "* fromkeys(seq,val)是以seq列表中元素为key，其内所有元素值初始化值为val"
   ]
  },
  {
   "cell_type": "code",
   "execution_count": 5,
   "metadata": {},
   "outputs": [],
   "source": [
    "seq = ['name','age','gender']"
   ]
  },
  {
   "cell_type": "code",
   "execution_count": 6,
   "metadata": {},
   "outputs": [
    {
     "data": {
      "text/plain": [
       "{'age': '1', 'gender': '1', 'name': '1'}"
      ]
     },
     "execution_count": 6,
     "metadata": {},
     "output_type": "execute_result"
    }
   ],
   "source": [
    "dic = dict.fromkeys(seq,'1')\n",
    "dic"
   ]
  },
  {
   "cell_type": "markdown",
   "metadata": {},
   "source": [
    "#### 下面利用这个函数，来完成序列中的字典元素频度的初始化"
   ]
  },
  {
   "cell_type": "code",
   "execution_count": 1,
   "metadata": {},
   "outputs": [],
   "source": [
    "from random import randint"
   ]
  },
  {
   "cell_type": "code",
   "execution_count": 4,
   "metadata": {
    "scrolled": true
   },
   "outputs": [
    {
     "data": {
      "text/plain": [
       "[6,\n",
       " 18,\n",
       " 4,\n",
       " 18,\n",
       " 9,\n",
       " 0,\n",
       " 20,\n",
       " 12,\n",
       " 6,\n",
       " 2,\n",
       " 17,\n",
       " 15,\n",
       " 10,\n",
       " 2,\n",
       " 15,\n",
       " 19,\n",
       " 8,\n",
       " 15,\n",
       " 0,\n",
       " 18,\n",
       " 1,\n",
       " 6,\n",
       " 19,\n",
       " 13,\n",
       " 7,\n",
       " 0,\n",
       " 2,\n",
       " 17,\n",
       " 8,\n",
       " 1]"
      ]
     },
     "execution_count": 4,
     "metadata": {},
     "output_type": "execute_result"
    }
   ],
   "source": [
    "L = [randint(0,20) for _ in range(30)]\n",
    "L"
   ]
  },
  {
   "cell_type": "code",
   "execution_count": 8,
   "metadata": {},
   "outputs": [],
   "source": [
    "d = dict.fromkeys(L,0)"
   ]
  },
  {
   "cell_type": "code",
   "execution_count": 9,
   "metadata": {},
   "outputs": [
    {
     "data": {
      "text/plain": [
       "{0: 0,\n",
       " 1: 0,\n",
       " 2: 0,\n",
       " 4: 0,\n",
       " 6: 0,\n",
       " 7: 0,\n",
       " 8: 0,\n",
       " 9: 0,\n",
       " 10: 0,\n",
       " 12: 0,\n",
       " 13: 0,\n",
       " 15: 0,\n",
       " 17: 0,\n",
       " 18: 0,\n",
       " 19: 0,\n",
       " 20: 0}"
      ]
     },
     "execution_count": 9,
     "metadata": {},
     "output_type": "execute_result"
    }
   ],
   "source": [
    "d"
   ]
  },
  {
   "cell_type": "code",
   "execution_count": 10,
   "metadata": {},
   "outputs": [
    {
     "data": {
      "text/plain": [
       "{0: 3,\n",
       " 1: 2,\n",
       " 2: 3,\n",
       " 4: 1,\n",
       " 6: 3,\n",
       " 7: 1,\n",
       " 8: 2,\n",
       " 9: 1,\n",
       " 10: 1,\n",
       " 12: 1,\n",
       " 13: 1,\n",
       " 15: 3,\n",
       " 17: 2,\n",
       " 18: 3,\n",
       " 19: 2,\n",
       " 20: 1}"
      ]
     },
     "execution_count": 10,
     "metadata": {},
     "output_type": "execute_result"
    }
   ],
   "source": [
    "for x in L:\n",
    "    d[x] +=1\n",
    "d"
   ]
  },
  {
   "cell_type": "markdown",
   "metadata": {},
   "source": [
    "#### 下面利用字典的itmes()方法，对字典进行排序"
   ]
  },
  {
   "cell_type": "code",
   "execution_count": 13,
   "metadata": {},
   "outputs": [],
   "source": [
    "sorted_l = sorted(d.items(),key=lambda item:item[1],reverse=True)"
   ]
  },
  {
   "cell_type": "code",
   "execution_count": 16,
   "metadata": {},
   "outputs": [
    {
     "data": {
      "text/plain": [
       "[(6, 3), (18, 3), (0, 3)]"
      ]
     },
     "execution_count": 16,
     "metadata": {},
     "output_type": "execute_result"
    }
   ],
   "source": [
    "sorted_l[:3]"
   ]
  },
  {
   "cell_type": "markdown",
   "metadata": {},
   "source": [
    "#### 使用列表推导式"
   ]
  },
  {
   "cell_type": "markdown",
   "metadata": {},
   "source": [
    "##### 直接使用生成器，不使用生成列表，占用存储空间"
   ]
  },
  {
   "cell_type": "code",
   "execution_count": 21,
   "metadata": {},
   "outputs": [
    {
     "data": {
      "text/plain": [
       "[(3, 18), (3, 15), (3, 6)]"
      ]
     },
     "execution_count": 21,
     "metadata": {},
     "output_type": "execute_result"
    }
   ],
   "source": [
    "sorted(((v,k) for(k,v) in d.items()),reverse=True)[:3]"
   ]
  },
  {
   "cell_type": "markdown",
   "metadata": {},
   "source": [
    "##### 使用列表的方式"
   ]
  },
  {
   "cell_type": "code",
   "execution_count": 23,
   "metadata": {},
   "outputs": [
    {
     "data": {
      "text/plain": [
       "[(3, 18), (3, 15), (3, 6)]"
      ]
     },
     "execution_count": 23,
     "metadata": {},
     "output_type": "execute_result"
    }
   ],
   "source": [
    "sorted([(v,k) for (k,v) in d.items()],reverse=True)[:3]"
   ]
  },
  {
   "cell_type": "markdown",
   "metadata": {},
   "source": [
    "### 使用Python中的第三方库，即堆这种数据结构，比上面的要优"
   ]
  },
  {
   "cell_type": "code",
   "execution_count": 24,
   "metadata": {},
   "outputs": [],
   "source": [
    "import heapq"
   ]
  },
  {
   "cell_type": "code",
   "execution_count": 29,
   "metadata": {},
   "outputs": [
    {
     "data": {
      "text/plain": [
       "[(3, 18), (3, 15), (3, 6)]"
      ]
     },
     "execution_count": 29,
     "metadata": {},
     "output_type": "execute_result"
    }
   ],
   "source": [
    "heapq.nlargest(3,((v,k) for (k,v) in d.items()))"
   ]
  },
  {
   "cell_type": "markdown",
   "metadata": {},
   "source": [
    "## 使用counter类中的most_common()方法"
   ]
  },
  {
   "cell_type": "code",
   "execution_count": 30,
   "metadata": {},
   "outputs": [],
   "source": [
    "from collections import Counter"
   ]
  },
  {
   "cell_type": "code",
   "execution_count": 31,
   "metadata": {
    "scrolled": true
   },
   "outputs": [
    {
     "data": {
      "text/plain": [
       "[6,\n",
       " 18,\n",
       " 4,\n",
       " 18,\n",
       " 9,\n",
       " 0,\n",
       " 20,\n",
       " 12,\n",
       " 6,\n",
       " 2,\n",
       " 17,\n",
       " 15,\n",
       " 10,\n",
       " 2,\n",
       " 15,\n",
       " 19,\n",
       " 8,\n",
       " 15,\n",
       " 0,\n",
       " 18,\n",
       " 1,\n",
       " 6,\n",
       " 19,\n",
       " 13,\n",
       " 7,\n",
       " 0,\n",
       " 2,\n",
       " 17,\n",
       " 8,\n",
       " 1]"
      ]
     },
     "execution_count": 31,
     "metadata": {},
     "output_type": "execute_result"
    }
   ],
   "source": [
    "L"
   ]
  },
  {
   "cell_type": "code",
   "execution_count": 32,
   "metadata": {},
   "outputs": [],
   "source": [
    "c = Counter(L)"
   ]
  },
  {
   "cell_type": "code",
   "execution_count": 33,
   "metadata": {},
   "outputs": [
    {
     "data": {
      "text/plain": [
       "[(6, 3), (18, 3), (0, 3)]"
      ]
     },
     "execution_count": 33,
     "metadata": {},
     "output_type": "execute_result"
    }
   ],
   "source": [
    "c.most_common(3)"
   ]
  },
  {
   "cell_type": "code",
   "execution_count": null,
   "metadata": {},
   "outputs": [],
   "source": []
  },
  {
   "cell_type": "code",
   "execution_count": null,
   "metadata": {},
   "outputs": [],
   "source": []
  },
  {
   "cell_type": "markdown",
   "metadata": {},
   "source": [
    "##### 第一种方案，比较慢，因为是对所有的元素进行了排序"
   ]
  },
  {
   "cell_type": "markdown",
   "metadata": {},
   "source": [
    "#### 实例2：\n",
    "对英文文章单词，进行词频统计，找到出现次数最高的10个单词，他们出现的次数是多少？"
   ]
  },
  {
   "cell_type": "markdown",
   "metadata": {},
   "source": [
    "#### 使用正则表达式将单词切分"
   ]
  },
  {
   "cell_type": "code",
   "execution_count": 34,
   "metadata": {},
   "outputs": [],
   "source": [
    "import re"
   ]
  },
  {
   "cell_type": "code",
   "execution_count": 36,
   "metadata": {},
   "outputs": [],
   "source": [
    "txt = open('./data/example.txt').read()"
   ]
  },
  {
   "cell_type": "code",
   "execution_count": 37,
   "metadata": {},
   "outputs": [
    {
     "data": {
      "text/plain": [
       "'awesome-object-proposals Awesome\\nA curated list of object proposals resources for object detection.\\n\\n=======\\n\\nTable of Contents\\nIntroduction\\nTutorials\\nPapers\\nObjectness Scoring\\nSimilarity Grouping\\nSupervised Learning\\nHybrid & Part-based\\nRGB-D\\nRe-ranking & Refinement\\nSpatio-Temporal\\nLow-Level Processing\\nEvaluation\\nDatasets\\nIntroduction\\n[A Seismic Shift in Object Detection] (https://pdollar.wordpress.com/2013/12/10/a-seismic-shift-in-object-detection/) by Piotr Dollár.\\n[Generating Object Proposals] (https://pdollar.wordpress.com/2013/12/22/generating-object-proposals/) by Piotr Dollár.\\nTutorials\\n[ICCV 2015 Tutorial on Tools for Efficient Object Detection] (http://mp7.watson.ibm.com/ICCV2015/ObjectDetectionICCV2015.html)\\nJan Hosang, Region Proposals.\\nPapers'"
      ]
     },
     "execution_count": 37,
     "metadata": {},
     "output_type": "execute_result"
    }
   ],
   "source": [
    "txt"
   ]
  },
  {
   "cell_type": "code",
   "execution_count": 41,
   "metadata": {},
   "outputs": [],
   "source": [
    "txt = re.split('\\W+',txt)"
   ]
  },
  {
   "cell_type": "code",
   "execution_count": 42,
   "metadata": {},
   "outputs": [],
   "source": [
    "c2 = Counter(txt)"
   ]
  },
  {
   "cell_type": "code",
   "execution_count": 43,
   "metadata": {},
   "outputs": [
    {
     "data": {
      "text/plain": [
       "[('object', 5),\n",
       " ('proposals', 3),\n",
       " ('Object', 3),\n",
       " ('com', 3),\n",
       " ('A', 2),\n",
       " ('of', 2),\n",
       " ('for', 2),\n",
       " ('detection', 2),\n",
       " ('Introduction', 2),\n",
       " ('Tutorials', 2)]"
      ]
     },
     "execution_count": 43,
     "metadata": {},
     "output_type": "execute_result"
    }
   ],
   "source": [
    "c2.most_common(10)"
   ]
  },
  {
   "cell_type": "markdown",
   "metadata": {},
   "source": [
    "## 总结："
   ]
  },
  {
   "cell_type": "markdown",
   "metadata": {},
   "source": [
    "#### 实现包含两种大的思维方式："
   ]
  },
  {
   "cell_type": "markdown",
   "metadata": {},
   "source": [
    "1、使用排序取出topN ，核心fromkeys()完成元素字典初始化dic{item,0}，遍历元素完成统计， sorted()函数 传入参数 key=lamda item:item[1] reverse=True"
   ]
  },
  {
   "cell_type": "markdown",
   "metadata": {},
   "source": [
    "##### 2、借助第三方库\n",
    "   **heapq堆排序**<br>\n",
    "   **collections.Counter类**"
   ]
  },
  {
   "cell_type": "markdown",
   "metadata": {},
   "source": [
    "### 编程模板："
   ]
  },
  {
   "cell_type": "markdown",
   "metadata": {},
   "source": [
    "##### 选取topN 使用keys= lamda表达式"
   ]
  },
  {
   "cell_type": "code",
   "execution_count": 45,
   "metadata": {},
   "outputs": [],
   "source": [
    "def select_topN(L,n):\n",
    "    d = dict.fromkeys(L,0)#初始化为字典,fromkeys()函数\n",
    "    for x in L:#得到词频统计\n",
    "        d[x] += 1\n",
    "    L = sorted(d.items(),key=lambda item:item[1],reverse=True)[:n]\n",
    "    return L "
   ]
  },
  {
   "cell_type": "markdown",
   "metadata": {},
   "source": [
    "##### 在sorted函数中使用列表推导式"
   ]
  },
  {
   "cell_type": "code",
   "execution_count": 54,
   "metadata": {},
   "outputs": [],
   "source": [
    "def select_topN_1(L,n):\n",
    "    d = dict.fromkeys(L,0)\n",
    "    print(\"初始化dict====>\",d)\n",
    "    for x in L:\n",
    "        d[x] += 1\n",
    "    L = sorted([(v,k) for (k,v) in d.items()],reverse=True)\n",
    "    print(\"完成排序==>\",L)\n",
    "    L = L[:3]\n",
    "    print(\"完成排序并取出前\",n,\"====>\",L)\n",
    "    return L"
   ]
  },
  {
   "cell_type": "markdown",
   "metadata": {},
   "source": [
    "##### 对sorted函数进行优化，不生成列表，使用生成器"
   ]
  },
  {
   "cell_type": "code",
   "execution_count": 56,
   "metadata": {},
   "outputs": [],
   "source": [
    "def select_topN_2(L,n):\n",
    "    d = dict.fromkeys(L,0)#初始化字典，{key=元素值,value=0}词频初始化为0\n",
    "    for x in L:\n",
    "        d[x] += 1\n",
    "    L = sorted(((v,k) for (k,v) in d.items()),reverse=True)[:n]\n",
    "    return L"
   ]
  },
  {
   "cell_type": "code",
   "execution_count": 47,
   "metadata": {},
   "outputs": [
    {
     "data": {
      "text/plain": [
       "[(9, 2), (0, 2), (223, 2)]"
      ]
     },
     "execution_count": 47,
     "metadata": {},
     "output_type": "execute_result"
    }
   ],
   "source": [
    "L = [9,0,9,0,13,223,12,233,223,233]\n",
    "select_topN(L,3)"
   ]
  },
  {
   "cell_type": "code",
   "execution_count": 52,
   "metadata": {},
   "outputs": [
    {
     "name": "stdout",
     "output_type": "stream",
     "text": [
      "初始化dict====> {9: 0, 0: 0, 13: 0, 223: 0, 12: 0, 233: 0}\n",
      "完成排序==> [(2, 233), (2, 223), (2, 9), (2, 0), (1, 13), (1, 12)]\n",
      "完成排序并取出前三====> [(2, 233), (2, 223), (2, 9)]\n"
     ]
    },
    {
     "data": {
      "text/plain": [
       "[(2, 233), (2, 223), (2, 9)]"
      ]
     },
     "execution_count": 52,
     "metadata": {},
     "output_type": "execute_result"
    }
   ],
   "source": [
    "select_topN_1(L,3)"
   ]
  },
  {
   "cell_type": "code",
   "execution_count": 57,
   "metadata": {},
   "outputs": [
    {
     "data": {
      "text/plain": [
       "[(2, 233), (2, 223), (2, 9)]"
      ]
     },
     "execution_count": 57,
     "metadata": {},
     "output_type": "execute_result"
    }
   ],
   "source": [
    "select_topN_2(L,3)"
   ]
  },
  {
   "cell_type": "markdown",
   "metadata": {},
   "source": [
    "## 上述在数据量较小时，看不出差别，当数据量较大时，需要对元素全排序，所以效率会降低，在实际中使用以下方案"
   ]
  },
  {
   "cell_type": "markdown",
   "metadata": {},
   "source": [
    "### 推荐编程模板"
   ]
  },
  {
   "cell_type": "markdown",
   "metadata": {},
   "source": [
    "##### 使用堆排序算法"
   ]
  },
  {
   "cell_type": "code",
   "execution_count": 61,
   "metadata": {},
   "outputs": [],
   "source": [
    "import heapq\n",
    "def select_topN_3(L,n):\n",
    "    d = dict.fromkeys(L,0)\n",
    "    for x in L:\n",
    "        d[x] += 1\n",
    "    L = heapq.nlargest(3,((v,k) for (k,v) in d.items()))\n",
    "    return L"
   ]
  },
  {
   "cell_type": "code",
   "execution_count": 63,
   "metadata": {},
   "outputs": [
    {
     "data": {
      "text/plain": [
       "[(2, 233), (2, 223), (2, 9)]"
      ]
     },
     "execution_count": 63,
     "metadata": {},
     "output_type": "execute_result"
    }
   ],
   "source": [
    "select_topN_3(L,3)"
   ]
  },
  {
   "cell_type": "markdown",
   "metadata": {},
   "source": [
    "##### 使用collections 中counter模块"
   ]
  },
  {
   "cell_type": "code",
   "execution_count": 64,
   "metadata": {},
   "outputs": [],
   "source": [
    "from collections import Counter\n",
    "def select_topN_4(L,n):\n",
    "    c = Counter(L)\n",
    "    L = c.most_common(3)\n",
    "    return L"
   ]
  },
  {
   "cell_type": "code",
   "execution_count": 65,
   "metadata": {},
   "outputs": [
    {
     "data": {
      "text/plain": [
       "[(9, 2), (0, 2), (223, 2)]"
      ]
     },
     "execution_count": 65,
     "metadata": {},
     "output_type": "execute_result"
    }
   ],
   "source": [
    "select_topN_4(L,3)"
   ]
  },
  {
   "cell_type": "code",
   "execution_count": null,
   "metadata": {},
   "outputs": [],
   "source": [
    "在以上所有的方法中，从代码简洁度和效率shang"
   ]
  }
 ],
 "metadata": {
  "kernelspec": {
   "display_name": "Python 3",
   "language": "python",
   "name": "python3"
  },
  "language_info": {
   "codemirror_mode": {
    "name": "ipython",
    "version": 3
   },
   "file_extension": ".py",
   "mimetype": "text/x-python",
   "name": "python",
   "nbconvert_exporter": "python",
   "pygments_lexer": "ipython3",
   "version": "3.6.4"
  }
 },
 "nbformat": 4,
 "nbformat_minor": 2
}
