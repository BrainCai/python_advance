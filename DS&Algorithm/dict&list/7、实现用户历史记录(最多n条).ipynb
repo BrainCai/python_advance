{
 "cells": [
  {
   "cell_type": "code",
   "execution_count": 25,
   "metadata": {},
   "outputs": [
    {
     "name": "stdout",
     "output_type": "stream",
     "text": [
      "3\n",
      "传入的数据类型：  <class 'str'>\n",
      "传入是否是数字字符： True\n",
      "True\n",
      "False\n"
     ]
    }
   ],
   "source": [
    "input_ = input()\n",
    "print('传入的数据类型： ',type(input_))\n",
    "print('传入是否是数字字符：',input_.isdigit())\n",
    "print(input_ == '3')#此处若为\n",
    "print(input_ == 3)#此处若为"
   ]
  },
  {
   "cell_type": "markdown",
   "metadata": {},
   "source": [
    "#### 1、 python中实现对控制台输入的数字"
   ]
  },
  {
   "cell_type": "code",
   "execution_count": 7,
   "metadata": {},
   "outputs": [
    {
     "name": "stdout",
     "output_type": "stream",
     "text": [
      "3\n",
      "4\n",
      "10\n",
      "12\n"
     ]
    }
   ],
   "source": [
    "while True:\n",
    "    line = int(input())\n",
    "    if line > 10:\n",
    "        break"
   ]
  },
  {
   "cell_type": "code",
   "execution_count": 8,
   "metadata": {},
   "outputs": [
    {
     "name": "stdout",
     "output_type": "stream",
     "text": [
      "1数字在前面\n"
     ]
    }
   ],
   "source": [
    "k =1\n",
    "print('%d数字在前面' %k)"
   ]
  },
  {
   "cell_type": "code",
   "execution_count": 9,
   "metadata": {},
   "outputs": [
    {
     "name": "stdout",
     "output_type": "stream",
     "text": [
      "数字1在中间\n"
     ]
    }
   ],
   "source": [
    "print('数字%d在中间'%k)"
   ]
  },
  {
   "cell_type": "code",
   "execution_count": 10,
   "metadata": {},
   "outputs": [
    {
     "name": "stdout",
     "output_type": "stream",
     "text": [
      "数字在后面1\n"
     ]
    }
   ],
   "source": [
    "print('数字在后面%d'%k)"
   ]
  },
  {
   "cell_type": "markdown",
   "metadata": {},
   "source": [
    "### 猜字游戏"
   ]
  },
  {
   "cell_type": "markdown",
   "metadata": {},
   "source": [
    "* 使用randint生成一个随机数"
   ]
  },
  {
   "cell_type": "markdown",
   "metadata": {},
   "source": [
    "* input('')方法读入控制台的输入"
   ]
  },
  {
   "cell_type": "code",
   "execution_count": null,
   "metadata": {},
   "outputs": [],
   "source": [
    "* input() 返回值，isdigit()函数可以判断"
   ]
  },
  {
   "cell_type": "code",
   "execution_count": 11,
   "metadata": {},
   "outputs": [],
   "source": [
    "from random import randint #从random中导入随机数据randint "
   ]
  },
  {
   "cell_type": "code",
   "execution_count": 18,
   "metadata": {},
   "outputs": [],
   "source": [
    "#n为随机生成的数字，k为用户输入的数字\n",
    "def guess(n,k):\n",
    "    if n == k:\n",
    "        print ('猜对了，这个数字就是%d' %k)\n",
    "        return True\n",
    "    if k > n:\n",
    "        print('猜大了，比%d小' %k)\n",
    "    if k < n:\n",
    "        print('猜小了，比%d大' %k)\n",
    "    return False"
   ]
  },
  {
   "cell_type": "code",
   "execution_count": 39,
   "metadata": {},
   "outputs": [
    {
     "name": "stdout",
     "output_type": "stream",
     "text": [
      "[1]请输入数字quit\n"
     ]
    }
   ],
   "source": [
    "n = randint(1,100)#随机生成正确的数字n\n",
    "i = 1\n",
    "while True:\n",
    "    line = input('[%d]请输入数字' %i)\n",
    "    if line.isdigit():\n",
    "        k = int(line)\n",
    "        i += 1\n",
    "        if guess(n,k):\n",
    "            break\n",
    "    elif line == 'quit':\n",
    "            break"
   ]
  },
  {
   "cell_type": "code",
   "execution_count": null,
   "metadata": {},
   "outputs": [],
   "source": []
  },
  {
   "cell_type": "markdown",
   "metadata": {},
   "source": [
    "#### Python中的双端队列"
   ]
  },
  {
   "cell_type": "code",
   "execution_count": 26,
   "metadata": {},
   "outputs": [],
   "source": [
    "from collections import deque"
   ]
  },
  {
   "cell_type": "code",
   "execution_count": 27,
   "metadata": {},
   "outputs": [],
   "source": [
    "q = deque([],5)"
   ]
  },
  {
   "cell_type": "code",
   "execution_count": 28,
   "metadata": {},
   "outputs": [
    {
     "data": {
      "text/plain": [
       "deque([])"
      ]
     },
     "execution_count": 28,
     "metadata": {},
     "output_type": "execute_result"
    }
   ],
   "source": [
    "q"
   ]
  },
  {
   "cell_type": "code",
   "execution_count": 29,
   "metadata": {},
   "outputs": [
    {
     "data": {
      "text/plain": [
       "deque([3])"
      ]
     },
     "execution_count": 29,
     "metadata": {},
     "output_type": "execute_result"
    }
   ],
   "source": [
    "q.append(3)\n",
    "q"
   ]
  },
  {
   "cell_type": "code",
   "execution_count": 34,
   "metadata": {},
   "outputs": [
    {
     "data": {
      "text/plain": [
       "deque([7, 4])"
      ]
     },
     "execution_count": 34,
     "metadata": {},
     "output_type": "execute_result"
    }
   ],
   "source": [
    "q.append(4)#右端入队\n",
    "q.appendleft(7)#左端入队\n",
    "q"
   ]
  },
  {
   "cell_type": "code",
   "execution_count": 35,
   "metadata": {},
   "outputs": [
    {
     "data": {
      "text/plain": [
       "7"
      ]
     },
     "execution_count": 35,
     "metadata": {},
     "output_type": "execute_result"
    }
   ],
   "source": [
    "q.pop()#右端出队\n",
    "q.popleft()#左端出队"
   ]
  },
  {
   "cell_type": "code",
   "execution_count": 37,
   "metadata": {},
   "outputs": [
    {
     "data": {
      "text/plain": [
       "deque([])"
      ]
     },
     "execution_count": 37,
     "metadata": {},
     "output_type": "execute_result"
    }
   ],
   "source": [
    "q"
   ]
  },
  {
   "cell_type": "markdown",
   "metadata": {},
   "source": [
    "### 实现历史记录功能"
   ]
  },
  {
   "cell_type": "code",
   "execution_count": 40,
   "metadata": {},
   "outputs": [],
   "source": [
    "from collections import deque"
   ]
  },
  {
   "cell_type": "code",
   "execution_count": 45,
   "metadata": {},
   "outputs": [
    {
     "name": "stdout",
     "output_type": "stream",
     "text": [
      "[1] 请输入一个数字2\n",
      "猜小了，比2大\n",
      "[2] 请输入一个数字3\n",
      "猜小了，比3大\n",
      "[3] 请输入一个数字4\n",
      "猜小了，比4大\n",
      "[4] 请输入一个数字5\n",
      "猜小了，比5大\n",
      "[5] 请输入一个数字6\n",
      "猜小了，比6大\n",
      "[6] 请输入一个数字4\n",
      "猜小了，比4大\n",
      "[7] 请输入一个数字h?\n",
      "[3, 4, 5, 6, 4]\n",
      "[8] 请输入一个数字quit\n"
     ]
    }
   ],
   "source": [
    "n = randint(1,100)\n",
    "i = 1\n",
    "hq = deque([],5)\n",
    "while True:\n",
    "    line = input('[%d] 请输入一个数字' %i)\n",
    "    i += 1\n",
    "    if line.isdigit():\n",
    "        k = int(line)\n",
    "        hq.append(k)\n",
    "        if guess(n,k):\n",
    "            break\n",
    "    elif line == 'quit':\n",
    "        break\n",
    "    elif line == 'h?':\n",
    "        print(list(hq))"
   ]
  },
  {
   "cell_type": "markdown",
   "metadata": {},
   "source": [
    "#### 将历史纪录保存到pickle中"
   ]
  },
  {
   "cell_type": "code",
   "execution_count": 46,
   "metadata": {},
   "outputs": [],
   "source": [
    "import pickle"
   ]
  },
  {
   "cell_type": "code",
   "execution_count": 48,
   "metadata": {},
   "outputs": [],
   "source": [
    "q2 = pickle.dump(hq,open('save.pkl','wb'))#wb的含义是：写入二进制格式"
   ]
  },
  {
   "cell_type": "code",
   "execution_count": 51,
   "metadata": {},
   "outputs": [],
   "source": [
    "q2 = pickle.load(open('save.pkl','rb'))#rb的含义是：以二进制格式读取"
   ]
  },
  {
   "cell_type": "code",
   "execution_count": 52,
   "metadata": {},
   "outputs": [
    {
     "data": {
      "text/plain": [
       "deque([3, 4, 5, 6, 4])"
      ]
     },
     "execution_count": 52,
     "metadata": {},
     "output_type": "execute_result"
    }
   ],
   "source": [
    "q2"
   ]
  },
  {
   "cell_type": "markdown",
   "metadata": {},
   "source": [
    "#### 总结"
   ]
  },
  {
   "cell_type": "markdown",
   "metadata": {},
   "source": [
    "本节主要实现的是：\n",
    "* 历史记录的添加，使用的数据结构是deque()，双端队列，完成数据的添加，append()是从右端添加，appendleft()是从左端添加\n",
    "* 除了使用deque，还使用pickle将其保存到磁盘中"
   ]
  }
 ],
 "metadata": {
  "kernelspec": {
   "display_name": "Python 3",
   "language": "python",
   "name": "python3"
  },
  "language_info": {
   "codemirror_mode": {
    "name": "ipython",
    "version": 3
   },
   "file_extension": ".py",
   "mimetype": "text/x-python",
   "name": "python",
   "nbconvert_exporter": "python",
   "pygments_lexer": "ipython3",
   "version": "3.6.4"
  }
 },
 "nbformat": 4,
 "nbformat_minor": 2
}
